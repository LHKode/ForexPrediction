{
 "cells": [
  {
   "cell_type": "markdown",
   "metadata": {},
   "source": [
    "# Run M1 Parser "
   ]
  },
  {
   "cell_type": "code",
   "execution_count": 15,
   "metadata": {
    "colab": {
     "base_uri": "https://localhost:8080/"
    },
    "executionInfo": {
     "elapsed": 644239,
     "status": "ok",
     "timestamp": 1631542655584,
     "user": {
      "displayName": "OCR Luận Văn",
      "photoUrl": "https://lh3.googleusercontent.com/a-/AOh14GjIaE0_uYqmxscQfi54YGlrt1ymAGa_o1i7JcGG=s64",
      "userId": "06880720099907280584"
     },
     "user_tz": -420
    },
    "id": "RRbCJpUXaY7i",
    "outputId": "b07bbabe-57ed-4848-8d5e-181a26e079ed",
    "scrolled": false
   },
   "outputs": [
    {
     "name": "stdout",
     "output_type": "stream",
     "text": [
      "Processing 6599083 rows\n",
      "Result got 247830 rows !\n",
      "Saved file in the output path !\n"
     ]
    }
   ],
   "source": [
    "!python 'M1Parser.py' \\\n",
    "--input_path 'Inputs/Exness_EURUSD_2021.csv' \\\n",
    "--output_path '/Output/2021_M1.csv'"
   ]
  },
  {
   "cell_type": "markdown",
   "metadata": {},
   "source": [
    "# Run algorithm_1"
   ]
  },
  {
   "cell_type": "code",
   "execution_count": null,
   "metadata": {
    "colab": {
     "base_uri": "https://localhost:8080/"
    },
    "id": "CFk9gmbxdhp5",
    "outputId": "4fbab2d8-0d51-4633-b0c1-fd134030f8ca"
   },
   "outputs": [
    {
     "name": "stdout",
     "output_type": "stream",
     "text": [
      "Saved all files in output path !\n"
     ]
    }
   ],
   "source": [
    "!python 'Parser.py' \\\n",
    "--input_path '/Output/2021_M1.csv' \\\n",
    "--Range 40 \\\n",
    "--Reverse 8 \\\n",
    "--Trend 12 \\\n",
    "--output_path '/Output/2021_Reverse.csv' \\\n",
    "--Plot_path '/Output/2021_plot.html' \\\n",
    "--Summary1_path '/Output/2021_summary1.csv' \\\n",
    "--Summary2_path '/Output/2021_summary2.csv'"
   ]
  },
  {
   "cell_type": "markdown",
   "metadata": {},
   "source": [
    "# Run Algorithm 2"
   ]
  },
  {
   "cell_type": "code",
   "execution_count": null,
   "metadata": {},
   "outputs": [],
   "source": [
    "!python 'algorithm_2.py' \\\n",
    "--input_path '/Output/2021_M1.csv' \\\n",
    "--TP 8 11 13 17 18 17 16 15 14 13 14 13 13 6 \\\n",
    "--TREND 3 6 9 13 17 23 27 33 39 45 52 59 66 73 \\\n",
    "--output_path '/Output/2021_Reverse.csv' \\\n",
    "--Plot_path '/Output/Output/2021_plot.html' \\\n",
    "--Summary1_path '/Output/2021_Summary1.csv' \\\n",
    "--Summary2_path '/Output/2021_Summary2.csv'"
   ]
  }
 ],
 "metadata": {
  "colab": {
   "collapsed_sections": [],
   "name": "Task 02 Hypothesis Test.ipynb",
   "provenance": []
  },
  "kernelspec": {
   "display_name": "Python 3",
   "language": "python",
   "name": "python3"
  },
  "language_info": {
   "codemirror_mode": {
    "name": "ipython",
    "version": 3
   },
   "file_extension": ".py",
   "mimetype": "text/x-python",
   "name": "python",
   "nbconvert_exporter": "python",
   "pygments_lexer": "ipython3",
   "version": "3.8.8"
  }
 },
 "nbformat": 4,
 "nbformat_minor": 1
}
